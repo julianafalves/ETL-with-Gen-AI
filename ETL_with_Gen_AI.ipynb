{
  "nbformat": 4,
  "nbformat_minor": 0,
  "metadata": {
    "colab": {
      "provenance": [],
      "authorship_tag": "ABX9TyNIwyoAb4A54/1D7MTlz1mM",
      "include_colab_link": true
    },
    "kernelspec": {
      "name": "python3",
      "display_name": "Python 3"
    },
    "language_info": {
      "name": "python"
    }
  },
  "cells": [
    {
      "cell_type": "markdown",
      "metadata": {
        "id": "view-in-github",
        "colab_type": "text"
      },
      "source": [
        "<a href=\"https://colab.research.google.com/github/julianafalves/ETL-with-Gen-AI/blob/main/ETL_with_Gen_AI.ipynb\" target=\"_parent\"><img src=\"https://colab.research.google.com/assets/colab-badge.svg\" alt=\"Open In Colab\"/></a>"
      ]
    },
    {
      "cell_type": "markdown",
      "source": [
        "#Extract\n"
      ],
      "metadata": {
        "id": "uCu5Se1LCRKP"
      }
    },
    {
      "cell_type": "code",
      "execution_count": 129,
      "metadata": {
        "id": "sD7L3kg-m4kR"
      },
      "outputs": [],
      "source": [
        "import pandas as pd"
      ]
    },
    {
      "cell_type": "code",
      "source": [
        "df = pd.DataFrame({'UserID':[723,724,719]})\n",
        "users_id = df['UserID'].tolist()"
      ],
      "metadata": {
        "id": "FK7VoHzenWfG"
      },
      "execution_count": 130,
      "outputs": []
    },
    {
      "cell_type": "code",
      "source": [
        "sdw2023_api_url = 'https://sdw-2023-prd.up.railway.app'"
      ],
      "metadata": {
        "id": "iXedf0C2nson"
      },
      "execution_count": 131,
      "outputs": []
    },
    {
      "cell_type": "code",
      "source": [
        "import requests\n",
        "import json"
      ],
      "metadata": {
        "id": "QkeznQRfn9bL"
      },
      "execution_count": 132,
      "outputs": []
    },
    {
      "cell_type": "code",
      "source": [
        "def get_user(id):\n",
        "  response = requests.get(f'{sdw2023_api_url}/users/{id}')\n",
        "  return response.json() if response.status_code == 200 else None"
      ],
      "metadata": {
        "id": "2BMFi0i1oTlr"
      },
      "execution_count": 133,
      "outputs": []
    },
    {
      "cell_type": "code",
      "source": [
        "users = [user for id in users_id if (user := get_user(id)) is not None]"
      ],
      "metadata": {
        "id": "IYPbIvrGoyCt"
      },
      "execution_count": 134,
      "outputs": []
    },
    {
      "cell_type": "code",
      "source": [
        "print(json.dumps(users,indent=2))"
      ],
      "metadata": {
        "colab": {
          "base_uri": "https://localhost:8080/"
        },
        "id": "BXb8g0Hao0sN",
        "outputId": "831ef560-266e-4897-a7c7-d925f9e29c7c"
      },
      "execution_count": 135,
      "outputs": [
        {
          "output_type": "stream",
          "name": "stdout",
          "text": [
            "[\n",
            "  {\n",
            "    \"id\": 723,\n",
            "    \"name\": \"Juliana\",\n",
            "    \"account\": {\n",
            "      \"id\": 747,\n",
            "      \"number\": \"61018-99\",\n",
            "      \"agency\": \"1019\",\n",
            "      \"balance\": 10000.0,\n",
            "      \"limit\": 10000.0\n",
            "    },\n",
            "    \"card\": {\n",
            "      \"id\": 698,\n",
            "      \"number\": \"**** **** ***0 1999\",\n",
            "      \"limit\": 10000.0\n",
            "    },\n",
            "    \"features\": [],\n",
            "    \"news\": [\n",
            "      {\n",
            "        \"id\": 1978,\n",
            "        \"icon\": null,\n",
            "        \"description\": \" We care about your financial well-being. That's why we offer a variety of investment options to help you reach your financial goals. From savings accounts to retirement plans, we have something for everyone. Talk to your banker today to learn more.\"\n",
            "      }\n",
            "    ]\n",
            "  },\n",
            "  {\n",
            "    \"id\": 724,\n",
            "    \"name\": \"Sean\",\n",
            "    \"account\": {\n",
            "      \"id\": 748,\n",
            "      \"number\": \"250120-00\",\n",
            "      \"agency\": \"2501\",\n",
            "      \"balance\": 10010.0,\n",
            "      \"limit\": 10000.0\n",
            "    },\n",
            "    \"card\": {\n",
            "      \"id\": 699,\n",
            "      \"number\": \"**** **** **** 2501\",\n",
            "      \"limit\": 10000.0\n",
            "    },\n",
            "    \"features\": [],\n",
            "    \"news\": []\n",
            "  },\n",
            "  {\n",
            "    \"id\": 719,\n",
            "    \"name\": \"Araci\",\n",
            "    \"account\": {\n",
            "      \"id\": 743,\n",
            "      \"number\": \"220719-65\",\n",
            "      \"agency\": \"2207\",\n",
            "      \"balance\": 1000.0,\n",
            "      \"limit\": 1000.0\n",
            "    },\n",
            "    \"card\": {\n",
            "      \"id\": 694,\n",
            "      \"number\": \"**** **** **** 1965\",\n",
            "      \"limit\": 1000.0\n",
            "    },\n",
            "    \"features\": [],\n",
            "    \"news\": []\n",
            "  }\n",
            "]\n"
          ]
        }
      ]
    },
    {
      "cell_type": "markdown",
      "source": [
        "#Transform\n",
        " ## Integrando com a API do CoHere Generative AI"
      ],
      "metadata": {
        "id": "SjTLnurYCUmG"
      }
    },
    {
      "cell_type": "code",
      "source": [
        "!pip install cohere"
      ],
      "metadata": {
        "colab": {
          "base_uri": "https://localhost:8080/"
        },
        "id": "1tHhSz5gM5R6",
        "outputId": "e5ef8d02-bf42-4cea-d7ca-8c23c325564c"
      },
      "execution_count": 136,
      "outputs": [
        {
          "output_type": "stream",
          "name": "stdout",
          "text": [
            "Requirement already satisfied: cohere in /usr/local/lib/python3.10/dist-packages (4.21)\n",
            "Requirement already satisfied: aiohttp<4.0,>=3.0 in /usr/local/lib/python3.10/dist-packages (from cohere) (3.8.5)\n",
            "Requirement already satisfied: backoff<3.0,>=2.0 in /usr/local/lib/python3.10/dist-packages (from cohere) (2.2.1)\n",
            "Requirement already satisfied: fastavro==1.8.2 in /usr/local/lib/python3.10/dist-packages (from cohere) (1.8.2)\n",
            "Requirement already satisfied: importlib_metadata<7.0,>=6.0 in /usr/local/lib/python3.10/dist-packages (from cohere) (6.8.0)\n",
            "Requirement already satisfied: requests<3.0.0,>=2.25.0 in /usr/local/lib/python3.10/dist-packages (from cohere) (2.31.0)\n",
            "Requirement already satisfied: urllib3<3,>=1.26 in /usr/local/lib/python3.10/dist-packages (from cohere) (2.0.4)\n",
            "Requirement already satisfied: attrs>=17.3.0 in /usr/local/lib/python3.10/dist-packages (from aiohttp<4.0,>=3.0->cohere) (23.1.0)\n",
            "Requirement already satisfied: charset-normalizer<4.0,>=2.0 in /usr/local/lib/python3.10/dist-packages (from aiohttp<4.0,>=3.0->cohere) (3.2.0)\n",
            "Requirement already satisfied: multidict<7.0,>=4.5 in /usr/local/lib/python3.10/dist-packages (from aiohttp<4.0,>=3.0->cohere) (6.0.4)\n",
            "Requirement already satisfied: async-timeout<5.0,>=4.0.0a3 in /usr/local/lib/python3.10/dist-packages (from aiohttp<4.0,>=3.0->cohere) (4.0.3)\n",
            "Requirement already satisfied: yarl<2.0,>=1.0 in /usr/local/lib/python3.10/dist-packages (from aiohttp<4.0,>=3.0->cohere) (1.9.2)\n",
            "Requirement already satisfied: frozenlist>=1.1.1 in /usr/local/lib/python3.10/dist-packages (from aiohttp<4.0,>=3.0->cohere) (1.4.0)\n",
            "Requirement already satisfied: aiosignal>=1.1.2 in /usr/local/lib/python3.10/dist-packages (from aiohttp<4.0,>=3.0->cohere) (1.3.1)\n",
            "Requirement already satisfied: zipp>=0.5 in /usr/local/lib/python3.10/dist-packages (from importlib_metadata<7.0,>=6.0->cohere) (3.16.2)\n",
            "Requirement already satisfied: idna<4,>=2.5 in /usr/local/lib/python3.10/dist-packages (from requests<3.0.0,>=2.25.0->cohere) (3.4)\n",
            "Requirement already satisfied: certifi>=2017.4.17 in /usr/local/lib/python3.10/dist-packages (from requests<3.0.0,>=2.25.0->cohere) (2023.7.22)\n"
          ]
        }
      ]
    },
    {
      "cell_type": "code",
      "source": [
        "import cohere\n",
        "co = cohere.Client('dCbAGB2ASZccs43UaN1DcMdZIIVfp1vwQO6ojxpn')\n",
        "def generate_ai_news(user):\n",
        "  response = co.generate(\n",
        "    prompt=f\"You are an expert in banking marketing! Create a notification message for the client {user} about the importance of investments (maximum 100 characters).\",\n",
        "    max_tokens = 100\n",
        "    )\n",
        "  return response\n"
      ],
      "metadata": {
        "id": "-JXcGzoeM_5M"
      },
      "execution_count": 137,
      "outputs": []
    },
    {
      "cell_type": "code",
      "source": [
        "for user in users:\n",
        "  news = generate_ai_news(user['name'])\n",
        "  print(news.generations[0].text, '\\n \\n')\n",
        "  user['news'].append({\n",
        "      \"description\":news.generations[0].text\n",
        "  })"
      ],
      "metadata": {
        "colab": {
          "base_uri": "https://localhost:8080/"
        },
        "id": "vcdhqIQLPBup",
        "outputId": "341b6445-8021-44d0-9d40-19da62d8b306"
      },
      "execution_count": 138,
      "outputs": [
        {
          "output_type": "stream",
          "name": "stdout",
          "text": [
            " Investing is the way to go if you want to grow your money and protect yourself from the effects of inflation. By choosing to invest, you're taking control of your financial future and setting yourself up for long-term success. \n",
            " \n",
            "\n",
            " Sean, it is important to invest your money in order to grow your wealth and protect yourself from inflation. Without investment, your money will lose its value over time. Invest now to secure your financial future. \n",
            " \n",
            "\n",
            " Araci, investments are essential to building a secure financial future. They allow you to grow your wealth over time, which can help you achieve your financial goals. With the right investments, you can build a diversified portfolio that is tailored to your risk tolerance and financial needs. Make sure to consult with a financial advisor to determine the best investment strategy for you. \n",
            " \n",
            "\n"
          ]
        }
      ]
    },
    {
      "cell_type": "code",
      "source": [
        "users"
      ],
      "metadata": {
        "colab": {
          "base_uri": "https://localhost:8080/"
        },
        "id": "dzmaYeF6WBNo",
        "outputId": "7a791e31-a09b-41bf-d2d6-1b814af21d0e"
      },
      "execution_count": 139,
      "outputs": [
        {
          "output_type": "execute_result",
          "data": {
            "text/plain": [
              "[{'id': 723,\n",
              "  'name': 'Juliana',\n",
              "  'account': {'id': 747,\n",
              "   'number': '61018-99',\n",
              "   'agency': '1019',\n",
              "   'balance': 10000.0,\n",
              "   'limit': 10000.0},\n",
              "  'card': {'id': 698, 'number': '**** **** ***0 1999', 'limit': 10000.0},\n",
              "  'features': [],\n",
              "  'news': [{'id': 1978,\n",
              "    'icon': None,\n",
              "    'description': \" We care about your financial well-being. That's why we offer a variety of investment options to help you reach your financial goals. From savings accounts to retirement plans, we have something for everyone. Talk to your banker today to learn more.\"},\n",
              "   {'description': \" Investing is the way to go if you want to grow your money and protect yourself from the effects of inflation. By choosing to invest, you're taking control of your financial future and setting yourself up for long-term success.\"}]},\n",
              " {'id': 724,\n",
              "  'name': 'Sean',\n",
              "  'account': {'id': 748,\n",
              "   'number': '250120-00',\n",
              "   'agency': '2501',\n",
              "   'balance': 10010.0,\n",
              "   'limit': 10000.0},\n",
              "  'card': {'id': 699, 'number': '**** **** **** 2501', 'limit': 10000.0},\n",
              "  'features': [],\n",
              "  'news': [{'description': ' Sean, it is important to invest your money in order to grow your wealth and protect yourself from inflation. Without investment, your money will lose its value over time. Invest now to secure your financial future.'}]},\n",
              " {'id': 719,\n",
              "  'name': 'Araci',\n",
              "  'account': {'id': 743,\n",
              "   'number': '220719-65',\n",
              "   'agency': '2207',\n",
              "   'balance': 1000.0,\n",
              "   'limit': 1000.0},\n",
              "  'card': {'id': 694, 'number': '**** **** **** 1965', 'limit': 1000.0},\n",
              "  'features': [],\n",
              "  'news': [{'description': ' Araci, investments are essential to building a secure financial future. They allow you to grow your wealth over time, which can help you achieve your financial goals. With the right investments, you can build a diversified portfolio that is tailored to your risk tolerance and financial needs. Make sure to consult with a financial advisor to determine the best investment strategy for you.'}]}]"
            ]
          },
          "metadata": {},
          "execution_count": 139
        }
      ]
    },
    {
      "cell_type": "markdown",
      "source": [
        "#Load\n",
        "## Loading data through restAPI"
      ],
      "metadata": {
        "id": "FFjsvBWKTb8c"
      }
    },
    {
      "cell_type": "code",
      "source": [
        "def update_user(user):\n",
        "  response = requests.put(f\"{sdw2023_api_url}/users/{user['id']}\",json=user)\n",
        "  return True if response.status_code == 200 else False"
      ],
      "metadata": {
        "id": "Ltj0otXATyUT"
      },
      "execution_count": 140,
      "outputs": []
    },
    {
      "cell_type": "code",
      "source": [
        "for user in users:\n",
        "  print(user)\n",
        "  success = update_user(user)\n",
        "  print(f\"User {user['name']} updated? {success}!\")"
      ],
      "metadata": {
        "colab": {
          "base_uri": "https://localhost:8080/"
        },
        "id": "ns53xHy2VV7H",
        "outputId": "c1a50111-bb7c-4339-bc49-3b2275ef7c0f"
      },
      "execution_count": 141,
      "outputs": [
        {
          "output_type": "stream",
          "name": "stdout",
          "text": [
            "{'id': 723, 'name': 'Juliana', 'account': {'id': 747, 'number': '61018-99', 'agency': '1019', 'balance': 10000.0, 'limit': 10000.0}, 'card': {'id': 698, 'number': '**** **** ***0 1999', 'limit': 10000.0}, 'features': [], 'news': [{'id': 1978, 'icon': None, 'description': \" We care about your financial well-being. That's why we offer a variety of investment options to help you reach your financial goals. From savings accounts to retirement plans, we have something for everyone. Talk to your banker today to learn more.\"}, {'description': \" Investing is the way to go if you want to grow your money and protect yourself from the effects of inflation. By choosing to invest, you're taking control of your financial future and setting yourself up for long-term success.\"}]}\n",
            "User Juliana updated? True!\n",
            "{'id': 724, 'name': 'Sean', 'account': {'id': 748, 'number': '250120-00', 'agency': '2501', 'balance': 10010.0, 'limit': 10000.0}, 'card': {'id': 699, 'number': '**** **** **** 2501', 'limit': 10000.0}, 'features': [], 'news': [{'description': ' Sean, it is important to invest your money in order to grow your wealth and protect yourself from inflation. Without investment, your money will lose its value over time. Invest now to secure your financial future.'}]}\n",
            "User Sean updated? True!\n",
            "{'id': 719, 'name': 'Araci', 'account': {'id': 743, 'number': '220719-65', 'agency': '2207', 'balance': 1000.0, 'limit': 1000.0}, 'card': {'id': 694, 'number': '**** **** **** 1965', 'limit': 1000.0}, 'features': [], 'news': [{'description': ' Araci, investments are essential to building a secure financial future. They allow you to grow your wealth over time, which can help you achieve your financial goals. With the right investments, you can build a diversified portfolio that is tailored to your risk tolerance and financial needs. Make sure to consult with a financial advisor to determine the best investment strategy for you.'}]}\n",
            "User Araci updated? False!\n"
          ]
        }
      ]
    }
  ]
}